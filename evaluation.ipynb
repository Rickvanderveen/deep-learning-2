{
 "cells": [
  {
   "cell_type": "markdown",
   "id": "e8141edf",
   "metadata": {},
   "source": [
    "# Evaluate the SPAI and ROGER model predictions"
   ]
  },
  {
   "cell_type": "code",
   "execution_count": 48,
   "id": "8cd191f6",
   "metadata": {},
   "outputs": [],
   "source": [
    "from pathlib import Path\n",
    "import evaluate"
   ]
  },
  {
   "cell_type": "code",
   "execution_count": 49,
   "id": "e9e51f60",
   "metadata": {},
   "outputs": [],
   "source": [
    "def evaluate_dataset(csv_dir: Path):\n",
    "    fake, real = evaluate.collect_csv_paths(csv_dir)\n",
    "    # This function prints the AUC\n",
    "    evaluate.compute_auc(fake, real)"
   ]
  },
  {
   "cell_type": "markdown",
   "id": "1695fdce",
   "metadata": {},
   "source": [
    "## Reproduced SPAI results "
   ]
  },
  {
   "cell_type": "code",
   "execution_count": 50,
   "id": "d0daa266",
   "metadata": {},
   "outputs": [
    {
     "name": "stdout",
     "output_type": "stream",
     "text": [
      "Fake dataset: AUC\n",
      "   fake_mjv5: 0.950253888964653\n",
      "  fake_mjv61: 0.8548555970191956\n",
      "   fake_sdxl: 0.9766998589038849\n",
      "   fake_sd13: 0.9959622025489807\n",
      "   fake_flux: 0.8467878997325897\n",
      "  fake_glide: 0.9112309962511063\n",
      "fake_firefly: 0.9638007283210754\n",
      "   fake_sd14: 0.9961672276258469\n",
      "    fake_sd3: 0.7814301252365112\n",
      " fake_dalle2: 0.9208836406469345\n",
      "fake_gigagan: 0.8686887174844742\n",
      " fake_dalle3: 0.9130342751741409\n",
      "    fake_sd2: 0.9685213565826416\n",
      "\n",
      " Average AUC: 0.9191012703455411\n"
     ]
    }
   ],
   "source": [
    "evaluate_dataset(Path(\"inference\"))"
   ]
  },
  {
   "cell_type": "markdown",
   "id": "bf118032",
   "metadata": {},
   "source": [
    "## ROGER on original dataset"
   ]
  },
  {
   "cell_type": "code",
   "execution_count": 51,
   "id": "e7aa3110",
   "metadata": {},
   "outputs": [
    {
     "name": "stdout",
     "output_type": "stream",
     "text": [
      "                                   Fake dataset: AUC\n",
      "   fake_sdxl_test_embeddings_prediction_results: 0.9999352395534515\n",
      "    fake_sd3_test_embeddings_prediction_results: 0.6695567518472672\n",
      "  fake_mjv61_test_embeddings_prediction_results: 0.9968048334121704\n",
      "  fake_glide_test_embeddings_prediction_results: 0.9887484610080719\n",
      "   fake_mjv5_test_embeddings_prediction_results: 0.9972957223653793\n",
      "fake_gigagan_test_embeddings_prediction_results: 0.9994889944791794\n",
      "   fake_sd14_test_embeddings_prediction_results: 0.9999674558639526\n",
      "fake_firefly_test_embeddings_prediction_results: 0.9805195480585098\n",
      " fake_dalle3_test_embeddings_prediction_results: 0.8395514935255051\n",
      " fake_dalle2_test_embeddings_prediction_results: 0.9913482367992401\n",
      "   fake_flux_test_embeddings_prediction_results: 0.9892545193433762\n",
      "   fake_sd13_test_embeddings_prediction_results: 0.9997547268867493\n",
      "    fake_sd2_test_embeddings_prediction_results: 0.9996906518936157\n",
      "\n",
      "                                    Average AUC: 0.9578397411566514\n"
     ]
    }
   ],
   "source": [
    "evaluate_dataset(Path(\"combi-model\", \"eval_splitmlp_all\"))"
   ]
  },
  {
   "cell_type": "markdown",
   "id": "fbf33421",
   "metadata": {},
   "source": [
    "## SPAI on derivative images"
   ]
  },
  {
   "cell_type": "markdown",
   "id": "f6fa57ef",
   "metadata": {},
   "source": [
    "### Meme simulation"
   ]
  },
  {
   "cell_type": "code",
   "execution_count": 52,
   "id": "7ffbc9d9",
   "metadata": {},
   "outputs": [
    {
     "name": "stdout",
     "output_type": "stream",
     "text": [
      "Fake dataset: AUC\n",
      "   fake_mjv5: 0.8996722400188446\n",
      "  fake_mjv61: 0.781096562743187\n",
      "   fake_sdxl: 0.9207706302404404\n",
      "   fake_sd13: 0.9433197230100632\n",
      "   fake_flux: 0.7447980046272278\n",
      "  fake_glide: 0.6310548931360245\n",
      "fake_firefly: 0.7482368797063828\n",
      "   fake_sd14: 0.950635239481926\n",
      "    fake_sd3: 0.6551742553710938\n",
      " fake_dalle2: 0.8185469955205917\n",
      "fake_gigagan: 0.8104568719863892\n",
      " fake_dalle3: 0.788123607635498\n",
      "    fake_sd2: 0.863235592842102\n",
      "\n",
      " Average AUC: 0.8119324227938285\n"
     ]
    }
   ],
   "source": [
    "evaluate_dataset(Path(\"meme_inference\"))"
   ]
  },
  {
   "cell_type": "markdown",
   "id": "ffa6e130",
   "metadata": {},
   "source": [
    "### Super resolution"
   ]
  },
  {
   "cell_type": "code",
   "execution_count": 53,
   "id": "a6ac0315",
   "metadata": {},
   "outputs": [
    {
     "name": "stdout",
     "output_type": "stream",
     "text": [
      "Fake dataset: AUC\n",
      "   fake_mjv5: 0.8986207544803619\n",
      "  fake_mjv61: 0.7979760617017746\n",
      "   fake_sdxl: 0.9140266329050064\n",
      "   fake_sd13: 0.9460059255361557\n",
      "   fake_flux: 0.7205337136983871\n",
      "  fake_glide: 0.7765187621116638\n",
      "fake_firefly: 0.8800026774406433\n",
      "   fake_sd14: 0.9512034952640533\n",
      "    fake_sd3: 0.38450710475444794\n",
      " fake_dalle2: 0.7136576473712921\n",
      "fake_gigagan: 0.6978809088468552\n",
      " fake_dalle3: 0.9237663298845291\n",
      "    fake_sd2: 0.878801703453064\n",
      "\n",
      " Average AUC: 0.8064232090344796\n"
     ]
    }
   ],
   "source": [
    "evaluate_dataset(Path(\"inference_sr\"))"
   ]
  },
  {
   "cell_type": "markdown",
   "id": "41fe9776",
   "metadata": {},
   "source": [
    "### Filter Simulation"
   ]
  },
  {
   "cell_type": "code",
   "execution_count": 54,
   "id": "a4a4a12d",
   "metadata": {},
   "outputs": [
    {
     "name": "stdout",
     "output_type": "stream",
     "text": [
      "Fake dataset: AUC\n",
      "   fake_mjv5: 0.68248550593853\n",
      "  fake_mjv61: 0.6868113726377487\n",
      "   fake_sdxl: 0.7925878465175629\n",
      "   fake_sd13: 0.875579833984375\n",
      "   fake_flux: 0.6999432444572449\n",
      "  fake_glide: 0.7643187195062637\n",
      "fake_firefly: 0.6825068891048431\n",
      "   fake_sd14: 0.8853577226400375\n",
      "    fake_sd3: 0.6687930077314377\n",
      " fake_dalle2: 0.746584489941597\n",
      "fake_gigagan: 0.6628098487854004\n",
      " fake_dalle3: 0.764478862285614\n",
      "    fake_sd2: 0.7402778416872025\n",
      "\n",
      " Average AUC: 0.7425027065552198\n"
     ]
    }
   ],
   "source": [
    "evaluate_dataset(Path(\"filter_inference\"))"
   ]
  },
  {
   "cell_type": "markdown",
   "id": "b83237cb",
   "metadata": {},
   "source": [
    "### Screenshot simulation"
   ]
  },
  {
   "cell_type": "code",
   "execution_count": 55,
   "id": "4d6755b9",
   "metadata": {},
   "outputs": [
    {
     "name": "stdout",
     "output_type": "stream",
     "text": [
      "Fake dataset: AUC\n",
      "   fake_mjv5: 0.514657124876976\n",
      "  fake_mjv61: 0.5231684967875481\n",
      "   fake_sdxl: 0.6744067668914795\n",
      "   fake_sd13: 0.9292770028114319\n",
      "   fake_flux: 0.4150037467479706\n",
      "  fake_glide: 0.8031032234430313\n",
      "fake_firefly: 0.6218430250883102\n",
      "   fake_sd14: 0.9327027499675751\n",
      "    fake_sd3: 0.5141740143299103\n",
      " fake_dalle2: 0.5109239891171455\n",
      "fake_gigagan: 0.6384449899196625\n",
      " fake_dalle3: 0.4934002533555031\n",
      "    fake_sd2: 0.5277833789587021\n",
      "\n",
      " Average AUC: 0.6229914432534804\n"
     ]
    }
   ],
   "source": [
    "evaluate_dataset(Path(\"ss_inference\"))"
   ]
  },
  {
   "cell_type": "markdown",
   "id": "e4c87f32",
   "metadata": {},
   "source": [
    "## ROGER on image modification"
   ]
  },
  {
   "cell_type": "markdown",
   "id": "a6067547",
   "metadata": {},
   "source": [
    "### Meme simulation"
   ]
  },
  {
   "cell_type": "code",
   "execution_count": 56,
   "id": "8e58aae0",
   "metadata": {},
   "outputs": [
    {
     "name": "stdout",
     "output_type": "stream",
     "text": [
      "                                               Fake dataset: AUC\n",
      "   fake_sdxl_test_embeddings_SplitMLP-v1_prediction_results: 0.9986072480678558\n",
      "   fake_sd13_test_embeddings_SplitMLP-v1_prediction_results: 0.9976517707109451\n",
      "  fake_glide_test_embeddings_SplitMLP-v1_prediction_results: 0.9437345266342163\n",
      "    fake_sd3_test_embeddings_SplitMLP-v1_prediction_results: 0.5173312425613403\n",
      "   fake_mjv5_test_embeddings_SplitMLP-v1_prediction_results: 0.9889859855175018\n",
      "fake_firefly_test_embeddings_SplitMLP-v1_prediction_results: 0.7978271394968033\n",
      "  fake_mjv61_test_embeddings_SplitMLP-v1_prediction_results: 0.9877687990665436\n",
      "fake_gigagan_test_embeddings_SplitMLP-v1_prediction_results: 0.9953757524490356\n",
      " fake_dalle3_test_embeddings_SplitMLP-v1_prediction_results: 0.6219357550144196\n",
      "    fake_sd2_test_embeddings_SplitMLP-v1_prediction_results: 0.9960282146930695\n",
      "   fake_sd14_test_embeddings_SplitMLP-v1_prediction_results: 0.9981727302074432\n",
      " fake_dalle2_test_embeddings_SplitMLP-v1_prediction_results: 0.9722864925861359\n",
      "   fake_flux_test_embeddings_SplitMLP-v1_prediction_results: 0.9585847407579422\n",
      "\n",
      "                                                Average AUC: 0.9057146459817886\n"
     ]
    }
   ],
   "source": [
    "evaluate_dataset(Path(\"combi-model\", \"eval_splitmlp_meme_simulation\"))"
   ]
  },
  {
   "cell_type": "markdown",
   "id": "0c6279b9",
   "metadata": {},
   "source": [
    "### Super simulation"
   ]
  },
  {
   "cell_type": "code",
   "execution_count": 57,
   "id": "8a193b13",
   "metadata": {},
   "outputs": [
    {
     "name": "stdout",
     "output_type": "stream",
     "text": [
      "                                               Fake dataset: AUC\n",
      "   fake_sdxl_test_embeddings_SplitMLP-v1_prediction_results: 0.999999538064003\n",
      "   fake_sd13_test_embeddings_SplitMLP-v1_prediction_results: 0.9999819844961166\n",
      "  fake_glide_test_embeddings_SplitMLP-v1_prediction_results: 0.9981640428304672\n",
      "    fake_sd3_test_embeddings_SplitMLP-v1_prediction_results: 0.46342994272708893\n",
      "   fake_mjv5_test_embeddings_SplitMLP-v1_prediction_results: 0.9999632388353348\n",
      "fake_firefly_test_embeddings_SplitMLP-v1_prediction_results: 0.9999159425497055\n",
      "  fake_mjv61_test_embeddings_SplitMLP-v1_prediction_results: 0.9997327029705048\n",
      "fake_gigagan_test_embeddings_SplitMLP-v1_prediction_results: 0.9986506998538971\n",
      " fake_dalle3_test_embeddings_SplitMLP-v1_prediction_results: 0.9999782145023346\n",
      "    fake_sd2_test_embeddings_SplitMLP-v1_prediction_results: 0.9999597668647766\n",
      "   fake_sd14_test_embeddings_SplitMLP-v1_prediction_results: 0.9999666959047318\n",
      " fake_dalle2_test_embeddings_SplitMLP-v1_prediction_results: 0.9987006187438965\n",
      "   fake_flux_test_embeddings_SplitMLP-v1_prediction_results: 0.9991681128740311\n",
      "\n",
      "                                                Average AUC: 0.9582778077859145\n"
     ]
    }
   ],
   "source": [
    "evaluate_dataset(Path(\"combi-model\", \"eval_splitmlp_sr\"))"
   ]
  },
  {
   "cell_type": "markdown",
   "id": "c37f7166",
   "metadata": {},
   "source": [
    "### Filter simulation"
   ]
  },
  {
   "cell_type": "code",
   "execution_count": 58,
   "id": "e811437e",
   "metadata": {},
   "outputs": [
    {
     "name": "stdout",
     "output_type": "stream",
     "text": [
      "                                               Fake dataset: AUC\n",
      "   fake_sdxl_test_embeddings_SplitMLP-v1_prediction_results: 0.7949847429990768\n",
      "   fake_sd13_test_embeddings_SplitMLP-v1_prediction_results: 0.9134675115346909\n",
      "  fake_glide_test_embeddings_SplitMLP-v1_prediction_results: 0.8240892291069031\n",
      "    fake_sd3_test_embeddings_SplitMLP-v1_prediction_results: 0.5555752292275429\n",
      "   fake_mjv5_test_embeddings_SplitMLP-v1_prediction_results: 0.7187382131814957\n",
      "fake_firefly_test_embeddings_SplitMLP-v1_prediction_results: 0.8498132675886154\n",
      "  fake_mjv61_test_embeddings_SplitMLP-v1_prediction_results: 0.604698657989502\n",
      "fake_gigagan_test_embeddings_SplitMLP-v1_prediction_results: 0.6870826482772827\n",
      " fake_dalle3_test_embeddings_SplitMLP-v1_prediction_results: 0.6432070136070251\n",
      "    fake_sd2_test_embeddings_SplitMLP-v1_prediction_results: 0.8626279979944229\n",
      "   fake_sd14_test_embeddings_SplitMLP-v1_prediction_results: 0.9179760366678238\n",
      " fake_dalle2_test_embeddings_SplitMLP-v1_prediction_results: 0.8314845114946365\n",
      "   fake_flux_test_embeddings_SplitMLP-v1_prediction_results: 0.6244451552629471\n",
      "\n",
      "                                                Average AUC: 0.7560146319178435\n"
     ]
    }
   ],
   "source": [
    "evaluate_dataset(Path(\"combi-model\", \"eval_splitmlp_data_with_filter\"))"
   ]
  },
  {
   "cell_type": "markdown",
   "id": "07a86bfc",
   "metadata": {},
   "source": [
    "### Screenshot simulation"
   ]
  },
  {
   "cell_type": "code",
   "execution_count": 59,
   "id": "6de1888f",
   "metadata": {},
   "outputs": [
    {
     "name": "stdout",
     "output_type": "stream",
     "text": [
      "                                               Fake dataset: AUC\n",
      "   fake_sdxl_test_embeddings_SplitMLP-v1_prediction_results: 0.9705012440681458\n",
      "   fake_sd13_test_embeddings_SplitMLP-v1_prediction_results: 0.9810250252485275\n",
      "  fake_glide_test_embeddings_SplitMLP-v1_prediction_results: 0.9086495041847229\n",
      "    fake_sd3_test_embeddings_SplitMLP-v1_prediction_results: 0.6911979913711548\n",
      "   fake_mjv5_test_embeddings_SplitMLP-v1_prediction_results: 0.9122681319713593\n",
      "fake_firefly_test_embeddings_SplitMLP-v1_prediction_results: 0.9238844811916351\n",
      "  fake_mjv61_test_embeddings_SplitMLP-v1_prediction_results: 0.9696433991193771\n",
      "fake_gigagan_test_embeddings_SplitMLP-v1_prediction_results: 0.9863639771938324\n",
      " fake_dalle3_test_embeddings_SplitMLP-v1_prediction_results: 0.7436390966176987\n",
      "    fake_sd2_test_embeddings_SplitMLP-v1_prediction_results: 0.9234312623739243\n",
      "   fake_sd14_test_embeddings_SplitMLP-v1_prediction_results: 0.9821672439575195\n",
      " fake_dalle2_test_embeddings_SplitMLP-v1_prediction_results: 0.9567662328481674\n",
      "   fake_flux_test_embeddings_SplitMLP-v1_prediction_results: 0.9013309925794601\n",
      "\n",
      "                                                Average AUC: 0.9116052755942712\n"
     ]
    }
   ],
   "source": [
    "evaluate_dataset(Path(\"combi-model\", \"eval_splitmlp_screenshot\"))"
   ]
  }
 ],
 "metadata": {
  "kernelspec": {
   "display_name": ".venv",
   "language": "python",
   "name": "python3"
  },
  "language_info": {
   "codemirror_mode": {
    "name": "ipython",
    "version": 3
   },
   "file_extension": ".py",
   "mimetype": "text/x-python",
   "name": "python",
   "nbconvert_exporter": "python",
   "pygments_lexer": "ipython3",
   "version": "3.11.11"
  }
 },
 "nbformat": 4,
 "nbformat_minor": 5
}
