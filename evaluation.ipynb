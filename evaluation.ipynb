{
 "cells": [
  {
   "cell_type": "markdown",
   "id": "e8141edf",
   "metadata": {},
   "source": [
    "# Evaluate the SPAI and ROGER model predictions\n",
    "\n",
    "This notebook evaluate the prediction of the original dataset used in SPAI and the 4 datasets create from the image modification on the two models SPAI and ROGER."
   ]
  },
  {
   "cell_type": "code",
   "execution_count": null,
   "id": "8cd191f6",
   "metadata": {},
   "outputs": [],
   "source": [
    "from pathlib import Path\n",
    "import evaluate"
   ]
  },
  {
   "cell_type": "code",
   "execution_count": null,
   "id": "e9e51f60",
   "metadata": {},
   "outputs": [],
   "source": [
    "def evaluate_dataset(csv_dir: Path):\n",
    "    fake, real = evaluate.collect_csv_paths(csv_dir)\n",
    "    # This function prints the AUC\n",
    "    evaluate.compute_auc(fake, real)"
   ]
  },
  {
   "cell_type": "markdown",
   "id": "1695fdce",
   "metadata": {},
   "source": [
    "## Reproduced SPAI results "
   ]
  },
  {
   "cell_type": "code",
   "execution_count": null,
   "id": "d0daa266",
   "metadata": {},
   "outputs": [],
   "source": [
    "evaluate_dataset(Path(\"inference\"))"
   ]
  },
  {
   "cell_type": "markdown",
   "id": "bf118032",
   "metadata": {},
   "source": [
    "## ROGER on original dataset"
   ]
  },
  {
   "cell_type": "code",
   "execution_count": null,
   "id": "e7aa3110",
   "metadata": {},
   "outputs": [],
   "source": [
    "evaluate_dataset(Path(\"combi-model\", \"eval_splitmlp_all\"))"
   ]
  },
  {
   "cell_type": "markdown",
   "id": "fbf33421",
   "metadata": {},
   "source": [
    "## SPAI on derivative images"
   ]
  },
  {
   "cell_type": "markdown",
   "id": "f6fa57ef",
   "metadata": {},
   "source": [
    "### Meme simulation"
   ]
  },
  {
   "cell_type": "code",
   "execution_count": null,
   "id": "7ffbc9d9",
   "metadata": {},
   "outputs": [],
   "source": [
    "evaluate_dataset(Path(\"meme_inference\"))"
   ]
  },
  {
   "cell_type": "markdown",
   "id": "ffa6e130",
   "metadata": {},
   "source": [
    "### Super resolution"
   ]
  },
  {
   "cell_type": "code",
   "execution_count": null,
   "id": "a6ac0315",
   "metadata": {},
   "outputs": [],
   "source": [
    "evaluate_dataset(Path(\"inference_sr\"))"
   ]
  },
  {
   "cell_type": "markdown",
   "id": "41fe9776",
   "metadata": {},
   "source": [
    "### Filter Simulation"
   ]
  },
  {
   "cell_type": "code",
   "execution_count": null,
   "id": "a4a4a12d",
   "metadata": {},
   "outputs": [],
   "source": [
    "evaluate_dataset(Path(\"filter_inference\"))"
   ]
  },
  {
   "cell_type": "markdown",
   "id": "b83237cb",
   "metadata": {},
   "source": [
    "### Screenshot simulation"
   ]
  },
  {
   "cell_type": "code",
   "execution_count": null,
   "id": "4d6755b9",
   "metadata": {},
   "outputs": [],
   "source": [
    "evaluate_dataset(Path(\"ss_inference\"))"
   ]
  },
  {
   "cell_type": "markdown",
   "id": "e4c87f32",
   "metadata": {},
   "source": [
    "## ROGER on image modification"
   ]
  },
  {
   "cell_type": "markdown",
   "id": "a6067547",
   "metadata": {},
   "source": [
    "### Meme simulation"
   ]
  },
  {
   "cell_type": "code",
   "execution_count": null,
   "id": "8e58aae0",
   "metadata": {},
   "outputs": [],
   "source": [
    "evaluate_dataset(Path(\"combi-model\", \"eval_splitmlp_meme_simulation\"))"
   ]
  },
  {
   "cell_type": "markdown",
   "id": "0c6279b9",
   "metadata": {},
   "source": [
    "### Super simulation"
   ]
  },
  {
   "cell_type": "code",
   "execution_count": null,
   "id": "8a193b13",
   "metadata": {},
   "outputs": [],
   "source": [
    "evaluate_dataset(Path(\"combi-model\", \"eval_splitmlp_sr\"))"
   ]
  },
  {
   "cell_type": "markdown",
   "id": "c37f7166",
   "metadata": {},
   "source": [
    "### Filter simulation"
   ]
  },
  {
   "cell_type": "code",
   "execution_count": null,
   "id": "e811437e",
   "metadata": {},
   "outputs": [],
   "source": [
    "evaluate_dataset(Path(\"combi-model\", \"eval_splitmlp_data_with_filter\"))"
   ]
  },
  {
   "cell_type": "markdown",
   "id": "07a86bfc",
   "metadata": {},
   "source": [
    "### Screenshot simulation"
   ]
  },
  {
   "cell_type": "code",
   "execution_count": null,
   "id": "6de1888f",
   "metadata": {},
   "outputs": [],
   "source": [
    "evaluate_dataset(Path(\"combi-model\", \"eval_splitmlp_screenshot\"))"
   ]
  }
 ],
 "metadata": {
  "kernelspec": {
   "display_name": ".venv",
   "language": "python",
   "name": "python3"
  },
  "language_info": {
   "codemirror_mode": {
    "name": "ipython",
    "version": 3
   },
   "file_extension": ".py",
   "mimetype": "text/x-python",
   "name": "python",
   "nbconvert_exporter": "python",
   "pygments_lexer": "ipython3",
   "version": "3.11.11"
  }
 },
 "nbformat": 4,
 "nbformat_minor": 5
}
